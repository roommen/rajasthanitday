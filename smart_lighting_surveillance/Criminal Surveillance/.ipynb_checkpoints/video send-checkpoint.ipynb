{
 "cells": [
  {
   "cell_type": "code",
   "execution_count": 6,
   "metadata": {},
   "outputs": [
    {
     "name": "stdout",
     "output_type": "stream",
     "text": [
      " emitting.....\n",
      "done emitting\n"
     ]
    }
   ],
   "source": [
    "import time\n",
    "import cv2\n",
    "from kafka import KafkaProducer\n",
    "#Initialising Kafka Producer, cluster IP :192.168.3.174, topic: video\n",
    "producer = KafkaProducer(bootstrap_servers='Extrack.bridgei2i.in:9092')\n",
    "topic = 'detection'\n",
    "\n",
    "def video_emitter(video):\n",
    "    video = cv2.VideoCapture(video)\n",
    "    print(' emitting.....')\n",
    "    #get image matrix\n",
    "    success, image = video.read()\n",
    "    p = time.time()\n",
    "    while True: \n",
    "        producer.send('motionsensor','1')\n",
    "        success, image = video.read()\n",
    "        #convert image matrix to ndarray\n",
    "        ret,jpeg = cv2.imencode('.png', image)\n",
    "        \n",
    "        #convert ndarray into bytes and sending to kafka server\n",
    "        producer.send(topic, jpeg.tobytes())\n",
    "    video.release()\n",
    "    print('done emitting')\n",
    "\n",
    "if __name__ == '__main__':\n",
    "    video_emitter(0)\n"
   ]
  },
  {
   "cell_type": "code",
   "execution_count": 3,
   "metadata": {},
   "outputs": [
    {
     "ename": "NameError",
     "evalue": "name 'video' is not defined",
     "output_type": "error",
     "traceback": [
      "\u001b[0;31m---------------------------------------------------------------------------\u001b[0m",
      "\u001b[0;31mNameError\u001b[0m                                 Traceback (most recent call last)",
      "\u001b[0;32m<ipython-input-3-9e1e9c19cce2>\u001b[0m in \u001b[0;36m<module>\u001b[0;34m()\u001b[0m\n\u001b[0;32m----> 1\u001b[0;31m \u001b[0mvideo\u001b[0m\u001b[0;34m.\u001b[0m\u001b[0mrelease\u001b[0m\u001b[0;34m(\u001b[0m\u001b[0;34m)\u001b[0m\u001b[0;34m\u001b[0m\u001b[0m\n\u001b[0m",
      "\u001b[0;31mNameError\u001b[0m: name 'video' is not defined"
     ]
    }
   ],
   "source": [
    "video.release()"
   ]
  },
  {
   "cell_type": "code",
   "execution_count": 5,
   "metadata": {},
   "outputs": [
    {
     "ename": "SyntaxError",
     "evalue": "invalid syntax (<ipython-input-5-31855ee122e6>, line 1)",
     "output_type": "error",
     "traceback": [
      "\u001b[0;36m  File \u001b[0;32m\"<ipython-input-5-31855ee122e6>\"\u001b[0;36m, line \u001b[0;32m1\u001b[0m\n\u001b[0;31m    172.17.0.4 kafka\u001b[0m\n\u001b[0m           ^\u001b[0m\n\u001b[0;31mSyntaxError\u001b[0m\u001b[0;31m:\u001b[0m invalid syntax\n"
     ]
    }
   ],
   "source": [
    "172.17.0.4 kafka\n",
    "172.17.0.3 zookeeper"
   ]
  },
  {
   "cell_type": "code",
   "execution_count": null,
   "metadata": {
    "collapsed": true
   },
   "outputs": [],
   "source": []
  }
 ],
 "metadata": {
  "kernelspec": {
   "display_name": "Python 2",
   "language": "python",
   "name": "python2"
  },
  "language_info": {
   "codemirror_mode": {
    "name": "ipython",
    "version": 2
   },
   "file_extension": ".py",
   "mimetype": "text/x-python",
   "name": "python",
   "nbconvert_exporter": "python",
   "pygments_lexer": "ipython2",
   "version": "2.7.6"
  }
 },
 "nbformat": 4,
 "nbformat_minor": 2
}
