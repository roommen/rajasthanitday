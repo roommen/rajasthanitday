{
 "cells": [
  {
   "cell_type": "code",
   "execution_count": 1,
   "metadata": {
    "collapsed": true
   },
   "outputs": [],
   "source": [
    "import time\n",
    "from kafka import KafkaConsumer\n",
    "# import mysql.connector"
   ]
  },
  {
   "cell_type": "code",
   "execution_count": 14,
   "metadata": {
    "collapsed": true
   },
   "outputs": [],
   "source": [
    "consumer = KafkaConsumer('faceid',bootstrap_servers =['172.26.42.131:9092'])\n",
    "#Extrack.bridgei2i.in\n",
    "# con = mysql.connector.connect(user='root',password ='password',host = 'localhost',port = '3306',database= 'instore_video')\n",
    "# cursor = con.cursor(True)"
   ]
  },
  {
   "cell_type": "code",
   "execution_count": null,
   "metadata": {},
   "outputs": [
    {
     "name": "stdout",
     "output_type": "stream",
     "text": [
      "[] Head_count = 2\n",
      "[] Head_count = 2\n",
      "[] Head_count = 1\n",
      "[] Head_count = 2\n",
      "[] Head_count = 2\n",
      "[] Head_count = 2\n",
      "[] Head_count = 1\n",
      "[] Head_count = 1\n"
     ]
    }
   ],
   "source": [
    "for msg in consumer:\n",
    "    print msg.value\n",
    "#     p= msg.value.split(',')\n",
    "#     sql= \"INSERT INTO facial_features VALUES('{}',{},'{}','{}')\".format(p[0],p[1],p[2],p[3])\n",
    "#     cursor.execute(sql)\n",
    "#     con.commit()\n",
    "# con.close()\n",
    "        "
   ]
  },
  {
   "cell_type": "code",
   "execution_count": null,
   "metadata": {
    "collapsed": true
   },
   "outputs": [],
   "source": []
  }
 ],
 "metadata": {
  "kernelspec": {
   "display_name": "Python 2",
   "language": "python",
   "name": "python2"
  },
  "language_info": {
   "codemirror_mode": {
    "name": "ipython",
    "version": 2
   },
   "file_extension": ".py",
   "mimetype": "text/x-python",
   "name": "python",
   "nbconvert_exporter": "python",
   "pygments_lexer": "ipython2",
   "version": "2.7.6"
  }
 },
 "nbformat": 4,
 "nbformat_minor": 2
}
